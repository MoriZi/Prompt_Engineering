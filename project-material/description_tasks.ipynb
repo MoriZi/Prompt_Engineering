{
 "cells": [
  {
   "cell_type": "code",
   "execution_count": null,
   "metadata": {},
   "outputs": [],
   "source": []
  },
  {
   "cell_type": "markdown",
   "metadata": {},
   "source": [
    "\n",
    "## **Project Title: Development of a Language-Specific Coding Assistant Chatbot**\n",
    "\n",
    "**Project Overview:**\n",
    "\n",
    "This project leverages Large Language Models (LLMs) and Prompt Engineering to develop a chatbot tailored for coding assistance in a specific programming language. The project now includes a focus on documentation and demonstration through a GitHub repository and a Prompt Engineering portfolio, providing a comprehensive showcase of your work and a practical toolkit for future application.\n",
    "\n",
    "<img src=\"./images/border.jpg\" height=\"10\" width=\"1500\" align=\"center\"/>\n",
    "\n",
    "**Goals:**\n",
    "1. To understand and apply LLMs and Prompt Engineering in developing specialized chatbots.\n",
    "2. To document the development process, prompt designs, and their applications in a detailed portfolio.\n",
    "3. To create a public GitHub repository that hosts all project-related code, documentation, and prompt examples.\n",
    "4. To develop a practical coding assistant tool that can be used in real-world scenarios, enhancing coding efficiency.\n",
    "\n",
    "<img src=\"./images/border.jpg\" height=\"10\" width=\"1500\" align=\"center\"/>\n",
    "\n",
    "**Setting Up the Environment:**\n",
    "\n",
    "1. Register for an OpenAI API key to gain access to GPT models.\n",
    "2. Set up a coding environment that supports API calls to OpenAI (e.g., Jupyter Notebook, Python script).\n",
    "3. Choose a programming language for the chatbot focus. Consider the language's utility in your current or future projects (e.g., Python for data science, JavaScript for front-end development).\n",
    "4. Familiarize yourself with the documentation of the chosen LLM to understand its capabilities and limitations.\n",
    "\n",
    "<img src=\"./images/border.jpg\" height=\"10\" width=\"1500\" align=\"center\"/>\n",
    "\n",
    "1. **GitHub Repository Setup:**\n",
    "   - Create a new repository on GitHub for your project.\n",
    "   - Organize the repository with folders for code, documentation, and your prompt portfolio.\n",
    "\n",
    "2. **Building Your Prompt Portfolio:**\n",
    "   - Create a directory within your repository named `Prompt Portfolio`.\n",
    "   - For each prompt developed, include a file (markdown preferred) that describes:\n",
    "     - The purpose of the prompt.\n",
    "     - How it was designed and why.\n",
    "     - Example inputs and outputs.\n",
    "     - Potential modifications or alternate applications.\n",
    "   - This portfolio will serve as both a documentation of your learning process and a reference tool for future projects.\n",
    "\n",
    "<img src=\"./images/border.jpg\" height=\"10\" width=\"1500\" align=\"center\"/>\n",
    "\n",
    "**Suggested structure**\n",
    "\n",
    "<img src=\"./images/gitStructure.png\" width=\"500\" align=\"center\"/>\n",
    "\n",
    "**Project Completion and Presentation:**\n",
    "\n",
    "- The GitHub repository and Prompt Portfolio will be reviewed for clarity, creativity, and comprehensiveness, showcasing the participant's ability to document and explain their work effectively.\n",
    "\n",
    "Good luck, and let the coding (and documenting) begin!\n"
   ]
  },
  {
   "cell_type": "markdown",
   "metadata": {},
   "source": [
    "<img src=\"./images/border.jpg\" height=\"10\" width=\"1500\" align=\"center\"/>"
   ]
  },
  {
   "cell_type": "markdown",
   "metadata": {},
   "source": [
    "\n",
    "**Tasks for Day 2: Introduction to Prompt Engineering Techniques**\n",
    "\n",
    "**Task Overview:**\n",
    "This session focuses on applying foundational Prompt Engineering techniques to improve your coding assistant chatbot within a two-hour window. The tasks are designed to be introductory yet impactful, providing immediate enhancements to your chatbot's capabilities.\n",
    "\n",
    "**Tasks:**\n",
    "\n",
    "1. **Basic Prompt Tuning:**\n",
    "- Task: Implement a simple zero-shot or few-shot prompt that helps your chatbot understand and respond to basic programming queries in the chosen language.\n",
    "- Goal: Get familiar with the concept of zero-shot and few-shot learning to improve chatbot responses.\n",
    "\n",
    "2. **Chain-of-Thought for Simple Debugging:**\n",
    "- Task: Use a chain-of-thought prompt to guide the chatbot in solving a simple debugging problem in your chosen programming language.\n",
    "- Goal: Demonstrate the chatbot's ability to logically reason through a coding issue.\n",
    "\n",
    "3. **Simple Retrieval-Augmented Generation:**\n",
    "- Task: Integrate a straightforward retrieval mechanism to augment the chatbot's responses with relevant documentation or examples from the web or a predefined dataset.\n",
    "- Goal: Enhance the chatbot's responses with external data for richer information.\n",
    "\n",
    "Focus on implementing these techniques in a basic form. The aim is to introduce you to the practical application of Prompt Engineering methods in a coding assistant context, not to perfect these methods within this limited time.\n",
    "\n",
    "Good luck, and let's enhance your coding assistant chatbot with these Prompt Engineering techniques!\n"
   ]
  },
  {
   "cell_type": "markdown",
   "metadata": {},
   "source": [
    "<img src=\"./images/border.jpg\" height=\"10\" width=\"1500\" align=\"center\"/>"
   ]
  },
  {
   "cell_type": "markdown",
   "metadata": {},
   "source": [
    "\n",
    "**Tasks for Day 3: Enhancing the Coding Assistant Chatbot with Advanced Features**\n",
    "\n",
    "**Task Overview:**\n",
    "In today's session, you will explore more advanced Prompt Engineering techniques and integrations to further enhance your coding assistant chatbot. Tasks are focusing on practical and impactful improvements.\n",
    "\n",
    "**Tasks:**\n",
    "\n",
    "1. **Basic Function Calling for Code Assistance:**\n",
    "- Task: Implement a simple function call within the chatbot to perform a basic operation related to the chosen programming language, like formatting a code snippet.\n",
    "- Goal: Introduce the concept of function calling in a practical, coding-related context.\n",
    "\n",
    "2. **Conversational Agent Integration with API:**\n",
    "- Task: Develop a basic integration where the chatbot calls a simple API to fetch data or execute a small task and returns the result in a conversational format.\n",
    "- Goal: Enhance the chatbot to interact with external APIs for practical tasks, improving its utility.\n",
    "\n",
    "3. **Simple Dataset Generation for Coding Examples:**\n",
    "- Task: Use the chatbot to generate a small set of example coding problems and solutions in your chosen programming language, aiming to enrich its knowledge base.\n",
    "- Goal: Begin exploring the potential of LLMs in generating useful content for chatbot training or user interaction.\n",
    "\n",
    "Each task is designed to build upon the foundational skills developed on the second day, with a focus on practical application and immediate impact on your chatbot's capabilities."
   ]
  },
  {
   "cell_type": "markdown",
   "metadata": {},
   "source": [
    "<img src=\"./images/border.jpg\" height=\"10\" width=\"1500\" align=\"center\"/>"
   ]
  },
  {
   "cell_type": "markdown",
   "metadata": {},
   "source": [
    "\n",
    "**Tasks for Day 4: Application-Specific Enhancements to the Coding Assistant Chatbot**\n",
    "\n",
    "**Task Overview:**\n",
    "On the final day, we'll apply application-specific prompt engineering techniques to enhance the coding assistant chatbot, focusing on a range of practical and creative tasks. These tasks are designed to be completed within a two-hour period, providing participants with the opportunity to deepen their understanding of prompt engineering and its vast potential.\n",
    "\n",
    "**Tasks:**\n",
    "\n",
    "1. **Code Snippet Generation:**\n",
    "- Task: Enhance your chatbot to generate code snippets for common tasks in the chosen programming language using prompt engineering.\n",
    "- Goal: Show the chatbot's ability to assist in code development by providing ready-to-use snippets.\n",
    "\n",
    "2. **MySQL Query Generation:**\n",
    "- Task: Implement functionality within your chatbot to produce MySQL queries based on user inputs, demonstrating the chatbot's utility in database management.\n",
    "- Goal: Explore the chatbot's application in generating database queries, streamlining database interactions.\n",
    "\n",
    "3. **TIKZ Diagrams Drawing:**\n",
    "- Task: Incorporate a feature in your chatbot that can guide users in creating TIKZ diagrams for LaTeX documents, leveraging its understanding of descriptive inputs to generate diagram commands.\n",
    "- Goal: Broaden the chatbot's capabilities to include support for academic and technical document preparation.\n",
    "\n",
    "4. **Creative and Interdisciplinary Tasks:**\n",
    "- Task: Experiment with creative and interdisciplinary prompt engineering, such as generating rhymes, Shakespearean-style proofs, or inventing new words related to coding and technology.\n",
    "- Goal: Foster creativity and explore the broader applications of LLMs in engaging and novel contexts.\n",
    "\n",
    "5. **Evaluation and Bias Awareness:**\n",
    "- Task: Engage with tasks that require evaluating the chatbot's responses for truthfulness, detecting biases, and understanding the implications of its outputs.\n",
    "- Goal: Develop critical thinking regarding the limitations and ethical considerations of LLMs in coding assistance and beyond.\n"
   ]
  },
  {
   "cell_type": "markdown",
   "metadata": {},
   "source": [
    "<img src=\"./images/border.jpg\" height=\"10\" width=\"1500\" align=\"center\"/>"
   ]
  }
 ],
 "metadata": {
  "language_info": {
   "name": "python"
  }
 },
 "nbformat": 4,
 "nbformat_minor": 2
}
